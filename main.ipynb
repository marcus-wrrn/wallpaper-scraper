{
 "cells": [
  {
   "cell_type": "code",
   "execution_count": 1,
   "metadata": {},
   "outputs": [],
   "source": [
    "import requests\n",
    "import pandas as pd\n",
    "# Import required info for access to the reddit api\n",
    "import clientInfo as botInfo\n",
    "import os"
   ]
  },
  {
   "cell_type": "code",
   "execution_count": 2,
   "metadata": {},
   "outputs": [],
   "source": [
    "base_url = 'https://www.reddit.com/'\n",
    "data = {'grant_type': 'password', 'username': botInfo.username, 'password': botInfo.password}\n",
    "auth = requests.auth.HTTPBasicAuth(botInfo.client_id, botInfo.secret)\n",
    "r = requests.post(base_url + 'api/v1/access_token',\n",
    "                  data=data,\n",
    "                  headers={'user-agent': 'CommentBot by u/ScraperBot-0'},\n",
    "\t\t          auth=auth)\n",
    "\n",
    "d = r.json()"
   ]
  },
  {
   "cell_type": "code",
   "execution_count": 3,
   "metadata": {},
   "outputs": [
    {
     "name": "stdout",
     "output_type": "stream",
     "text": [
      "Connected\n"
     ]
    }
   ],
   "source": [
    "token = 'bearer ' + d['access_token']\n",
    "\n",
    "base_url = 'https://oauth.reddit.com'\n",
    "\n",
    "headers = {'Authorization': token, 'User-Agent': 'CommentBot by ScraperBot-0'}\n",
    "response = requests.get(base_url + '/api/v1/me', headers=headers)\n",
    "\n",
    "if response.status_code == 200:\n",
    "    print(\"Connected\")"
   ]
  },
  {
   "cell_type": "code",
   "execution_count": 17,
   "metadata": {},
   "outputs": [],
   "source": [
    "subreddit = '/r/Art'\n",
    "numOfPosts = 25\n",
    "payload = {'limit': numOfPosts}\n",
    "response = requests.get(base_url + subreddit, headers=headers, params=payload).json()"
   ]
  },
  {
   "cell_type": "code",
   "execution_count": 7,
   "metadata": {},
   "outputs": [],
   "source": [
    "import json\n",
    "\n",
    "posts = response[\"data\"][\"children\"]\n",
    "# number of posts\n",
    "numPosts = len(posts)\n",
    "\n",
    "\n",
    "def getResolution(datPost):\n",
    "    resolution = datPost[\"preview\"][\"images\"][0][\"source\"]\n",
    "    return resolution[\"width\"], resolution[\"height\"]\n",
    "\n",
    "# assign all post\n",
    "def assignPostData(post: json, postInfo: dict):\n",
    "    # get the url to the image/gif\n",
    "    postInfo[\"url\"].append(post[\"url_overridden_by_dest\"])\n",
    "    # get post title\n",
    "    postInfo[\"title\"].append(post[\"title\"])\n",
    "    # Write flag to show that it is an image or not\n",
    "    postInfo[\"image\"].append(True if not \"gif\" in post[\"url\"] else False)\n",
    "    # Find the width and the height of the image/gif\n",
    "    width, height = getResolution(post)\n",
    "    postInfo[\"height\"].append(height)\n",
    "    postInfo[\"width\"].append(width)\n",
    "    # Check to see if it's NSFW\n",
    "    postInfo[\"NSFW\"].append(True if \"nsfw\" in post[\"thumbnail\"] else False)\n",
    "    # Get number of upvotes and ratio of upvotes\n",
    "    postInfo[\"ups\"].append(post[\"ups\"])\n",
    "    postInfo[\"upRatio\"].append(post[\"upvote_ratio\"])\n",
    "    \n",
    "\n",
    "# Gets all posts from a json object including art work, returns a dictionary with all data of each post and the number of posts found\n",
    "def getPostData(posts):\n",
    "    # Stores information about the image\n",
    "    postData = {\n",
    "        \"image\":      [],\n",
    "        \"title\":      [],\n",
    "        \"height\":     [],\n",
    "        \"width\":      [],\n",
    "        \"url\":        [],\n",
    "        'ups':        [],\n",
    "        \"upRatio\":    [],\n",
    "        \"NSFW\":       []\n",
    "    }\n",
    "    # Number of posts with art\n",
    "    postCount = 0\n",
    "    for i in range(len(posts)):\n",
    "        post = posts[i][\"data\"]\n",
    "        if \"url_overridden_by_dest\" in post and \"preview\" in post:\n",
    "            # Increase the count of the posts\n",
    "            postCount += 1\n",
    "            # assign all data to the post\n",
    "            assignPostData(post, postData)\n",
    "    return postData, postCount\n",
    "\n",
    "\n",
    "# Checks to see if the number of posts scraped is correct\n",
    "def checkPostLength(postData: dict, numOfPosts: int):\n",
    "    correctLen = True\n",
    "    if len(postData[\"image\"]) != numOfPosts:\n",
    "        correctLen = False\n",
    "    if len(postData[\"height\"]) != numOfPosts:\n",
    "        correctLen = False\n",
    "    if len(postData[\"width\"]) != numOfPosts:\n",
    "        correctLen = False\n",
    "    if len(postData[\"url\"]) != numOfPosts:\n",
    "        correctLen = False\n",
    "    if len(postData[\"ups\"]) != numOfPosts:\n",
    "        correctLen = False\n",
    "    if len(postData[\"upRatio\"]) != numOfPosts:\n",
    "        correctLen = False\n",
    "    if len(postData[\"NSFW\"]) != numOfPosts:\n",
    "        correctLen = False\n",
    "    return correctLen"
   ]
  },
  {
   "cell_type": "code",
   "execution_count": 8,
   "metadata": {},
   "outputs": [],
   "source": [
    "postData, postCount = getPostData(posts)"
   ]
  },
  {
   "cell_type": "code",
   "execution_count": 15,
   "metadata": {},
   "outputs": [],
   "source": [
    "def downloadPicture(url: str, filepath: str):\n",
    "    picture = requests.get(postData[\"url\"][i])\n",
    "    # If a file already exists on the path delete the picture\n",
    "    if(os.path.exists(filepath)):\n",
    "            os.remove(filepath)\n",
    "    with open(filepath, \"wb\") as f:\n",
    "        f.write(picture.content)\n",
    "\n",
    "filepath = \"./wallpapers/wallpaper\"\n",
    "\n",
    "# Checks to see if the user would like a new wallpaper or change to a new one\n",
    "# returns True to keep the wallpaper, False if not\n",
    "def getUserInput():\n",
    "    userChoice = input(\"Keep wallpaper y/n: \")\n",
    "    if(userChoice == 'y' or userChoice == 'Y'):\n",
    "        return True\n",
    "    return False\n",
    "\n",
    "\n",
    "for i in range(2, postCount):\n",
    "    if(postData[\"image\"][i] and not postData[\"NSFW\"][i]):\n",
    "        downloadPicture(postData[\"url\"][i], filepath)\n",
    "        # if getUserInput():\n",
    "        #     break\n",
    "        break"
   ]
  }
 ],
 "metadata": {
  "kernelspec": {
   "display_name": "Python 3.8.10 ('.venv': venv)",
   "language": "python",
   "name": "python3"
  },
  "language_info": {
   "codemirror_mode": {
    "name": "ipython",
    "version": 3
   },
   "file_extension": ".py",
   "mimetype": "text/x-python",
   "name": "python",
   "nbconvert_exporter": "python",
   "pygments_lexer": "ipython3",
   "version": "3.8.10"
  },
  "orig_nbformat": 4,
  "vscode": {
   "interpreter": {
    "hash": "859de2cb80f022127bb6cfe5d3501c01696d8c9f9d08817e50c357c99dd82b33"
   }
  }
 },
 "nbformat": 4,
 "nbformat_minor": 2
}
